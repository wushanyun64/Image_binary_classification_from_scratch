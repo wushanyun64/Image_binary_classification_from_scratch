{
 "cells": [
  {
   "cell_type": "code",
   "execution_count": 1,
   "metadata": {},
   "outputs": [
    {
     "data": {
      "text/plain": [
       "<torch._C.Generator at 0x7fc2e3aedcd0>"
      ]
     },
     "execution_count": 1,
     "metadata": {},
     "output_type": "execute_result"
    }
   ],
   "source": [
    "import torch \n",
    "import torch.nn as nn\n",
    "import torchvision.transforms as T\n",
    "import torch.nn.functional as F\n",
    "from torch.utils.data import Dataset, DataLoader, ConcatDataset\n",
    "import matplotlib.pyplot as plt\n",
    "from src.utils import *\n",
    "\n",
    "torch.manual_seed(20)"
   ]
  },
  {
   "cell_type": "code",
   "execution_count": 2,
   "metadata": {},
   "outputs": [
    {
     "name": "stdout",
     "output_type": "stream",
     "text": [
      "Number of training examples: 188\n",
      "Number of validation examples: 50\n",
      "Number of testing examples: 21\n",
      "Each image is of size: (64, 64, 3)\n",
      "train_x_orig shape: (188, 64, 64, 3)\n",
      "train_y shape: (188,)\n",
      "test_x_orig shape: (21, 64, 64, 3)\n",
      "test_y shape: (21,)\n"
     ]
    }
   ],
   "source": [
    "from sklearn.model_selection import train_test_split\n",
    "# import the data\n",
    "train_x_orig, train_y, val_x_orig, val_y, classes = load_data('./data/train_catvnoncat.h5','./data/test_catvnoncat.h5')\n",
    "train_y = train_y.reshape(209)\n",
    "val_y = val_y.reshape(50)\n",
    "train_x_orig, test_x_orig, train_y, test_y = train_test_split(train_x_orig, train_y, train_size=0.9, random_state=42)\n",
    "\n",
    "# Explore the dataset \n",
    "m_train = train_x_orig.shape[0]\n",
    "num_px = train_x_orig.shape[1]\n",
    "m_val = val_x_orig.shape[0]\n",
    "m_test = test_x_orig.shape[0]\n",
    "\n",
    "\n",
    "print (\"Number of training examples: \" + str(m_train))\n",
    "print (\"Number of validation examples: \" + str(m_val))\n",
    "print (\"Number of testing examples: \" + str(m_test))\n",
    "print (\"Each image is of size: (\" + str(num_px) + \", \" + str(num_px) + \", 3)\")\n",
    "print (\"train_x_orig shape: \" + str(train_x_orig.shape))\n",
    "print (\"train_y shape: \" + str(train_y.shape))\n",
    "print (\"test_x_orig shape: \" + str(test_x_orig.shape))\n",
    "print (\"test_y shape: \" + str(test_y.shape))"
   ]
  },
  {
   "cell_type": "code",
   "execution_count": 3,
   "metadata": {},
   "outputs": [],
   "source": [
    "# load the data into pytorch dataset object\n",
    "class Data(Dataset):\n",
    "\n",
    "    def __init__(self,x,y,transform):\n",
    "        self.transform = transform\n",
    "        self.x = x\n",
    "        self.y = y\n",
    "        self.len = y.shape[0]\n",
    "\n",
    "    #Getter\n",
    "    def __getitem__(self,index):\n",
    "        img = self.x[index]\n",
    "        x = self.transform(img)\n",
    "        return x, self.y[index]\n",
    "    \n",
    "    #Getlength\n",
    "    def __len__(self):\n",
    "        return self.len\n",
    "    \n",
    "#plot example\n",
    "def plot_img(dataset,i):\n",
    "    x_ = dataset[i][0]\n",
    "    y_ = dataset[i][1]\n",
    "    print('y=',y_)\n",
    "    to_pil = T.ToPILImage()\n",
    "    img = to_pil(x_)\n",
    "    img.show()"
   ]
  },
  {
   "cell_type": "code",
   "execution_count": 4,
   "metadata": {},
   "outputs": [],
   "source": [
    "#define transformations for train and test set\n",
    "transform_train = T.Compose([\n",
    "    T.ToPILImage(),\n",
    "    T.Resize([64,64]),\n",
    "    T.RandomHorizontalFlip(p=0.5),\n",
    "    T.RandomVerticalFlip(p=0.5),  \n",
    "    T.RandomResizedCrop(64),\n",
    "    T.RandomRotation(45,expand=False),\n",
    "    T.ToTensor(),\n",
    "    T.Normalize((0.5,0.5,0.5),(0.5,0.5,0.5)),\n",
    "    ])\n",
    "\n",
    "transform_test =  T.Compose([\n",
    "    T.ToPILImage(),\n",
    "    T.Resize([64,64]),\n",
    "    T.ToTensor(),\n",
    "    T.Normalize((0.5,0.5,0.5),(0.5,0.5,0.5)),\n",
    "    ])"
   ]
  },
  {
   "cell_type": "code",
   "execution_count": 5,
   "metadata": {},
   "outputs": [
    {
     "name": "stdout",
     "output_type": "stream",
     "text": [
      "length of new train-data set after augmentation is: 752\n",
      "length of val dataset: 50\n",
      "length of test dataset: 21\n"
     ]
    }
   ],
   "source": [
    "#get test_data set\n",
    "test_data = Data(test_x_orig,test_y,transform=transform_test)\n",
    "val_data = Data(val_x_orig,val_y,transform=transform_test)\n",
    "\n",
    "#get train_data set with random augmentation,this will triple the size the training data\n",
    "train_data1 = Data(train_x_orig,train_y,transform=transform_train)\n",
    "train_data2 = Data(train_x_orig,train_y,transform=transform_train)\n",
    "train_data3 = Data(train_x_orig,train_y,transform=transform_train)\n",
    "train_data4 = Data(train_x_orig,train_y,transform=transform_train)\n",
    "\n",
    "train_data = ConcatDataset([train_data1, train_data2, train_data3, train_data4])\n",
    "\n",
    "print('length of new train-data set after augmentation is:',len(train_data))\n",
    "print('length of val dataset:',len(val_data))\n",
    "print('length of test dataset:',len(test_data))"
   ]
  },
  {
   "cell_type": "code",
   "execution_count": 6,
   "metadata": {},
   "outputs": [
    {
     "name": "stdout",
     "output_type": "stream",
     "text": [
      "y= 0\n"
     ]
    },
    {
     "data": {
      "image/png": "[encoded data removed]",
      "text/plain": [
       "<PIL.Image.Image image mode=RGB size=64x64 at 0x7FC1ED8EA880>"
      ]
     },
     "metadata": {},
     "output_type": "display_data"
    },
    {
     "name": "stdout",
     "output_type": "stream",
     "text": [
      "y= 0\n"
     ]
    },
    {
     "data": {
      "image/png": "[encoded data removed]",
      "text/plain": [
       "<PIL.Image.Image image mode=RGB size=64x64 at 0x7FC1ED8EAA00>"
      ]
     },
     "metadata": {},
     "output_type": "display_data"
    },
    {
     "name": "stdout",
     "output_type": "stream",
     "text": [
      "y= 0\n"
     ]
    },
    {
     "data": {
      "image/png": "[encoded data removed]",
      "text/plain": [
       "<PIL.Image.Image image mode=RGB size=64x64 at 0x7FC1ED8EAA00>"
      ]
     },
     "metadata": {},
     "output_type": "display_data"
    },
    {
     "name": "stdout",
     "output_type": "stream",
     "text": [
      "y= 0\n"
     ]
    },
    {
     "data": {
      "image/png": "[encoded data removed]",
      "text/plain": [
       "<PIL.Image.Image image mode=RGB size=64x64 at 0x7FC1ED8EAE20>"
      ]
     },
     "metadata": {},
     "output_type": "display_data"
    }
   ],
   "source": [
    "#plot example\n",
    "plot_img(train_data1,110)\n",
    "plot_img(train_data2,110)\n",
    "plot_img(train_data3,110)\n",
    "plot_img(train_data4,110)"
   ]
  },
  {
   "cell_type": "markdown",
   "metadata": {},
   "source": [
    "A helper function that calculates the matrix dimension for all conv layers"
   ]
  },
  {
   "cell_type": "code",
   "execution_count": 7,
   "metadata": {},
   "outputs": [],
   "source": [
    "def conv_output_shape(h_w, kernel_size=1, stride=1, pad=0, dilation=1):\n",
    "    #by Duane Nielsen\n",
    "    from math import floor\n",
    "    if type(kernel_size) is not tuple:\n",
    "        kernel_size = (kernel_size, kernel_size)\n",
    "    h = floor( ((h_w[0] + (2 * pad) - ( dilation * (kernel_size[0] - 1) ) - 1 )/ stride) + 1)\n",
    "    w = floor( ((h_w[1] + (2 * pad) - ( dilation * (kernel_size[1] - 1) ) - 1 )/ stride) + 1)\n",
    "    return h, w"
   ]
  },
  {
   "cell_type": "markdown",
   "metadata": {},
   "source": [
    "### Train a CNN with 2 conv layers and 1 fully connected layer"
   ]
  },
  {
   "cell_type": "code",
   "execution_count": 8,
   "metadata": {},
   "outputs": [
    {
     "name": "stdout",
     "output_type": "stream",
     "text": [
      "(64, 64)\n",
      "(32, 32)\n",
      "(32, 32)\n",
      "(16, 16)\n",
      "(16, 16)\n",
      "(8, 8)\n",
      "(8, 8)\n",
      "(4, 4)\n"
     ]
    }
   ],
   "source": [
    "# Dimensions for different layers\n",
    "conv_kernel_size = 3\n",
    "conv_pad = 1\n",
    "maxpool_kernel_size = 2\n",
    "\n",
    "shape=(64,64)\n",
    "for i in range(4):\n",
    "    shape = conv_output_shape(shape,kernel_size=conv_kernel_size,pad=conv_pad)\n",
    "    conv_kernel_size+=2\n",
    "    conv_pad+=1\n",
    "    print(shape)\n",
    "    shape = conv_output_shape(shape,kernel_size=maxpool_kernel_size,stride=maxpool_kernel_size)\n",
    "    print(shape)"
   ]
  },
  {
   "cell_type": "code",
   "execution_count": 9,
   "metadata": {},
   "outputs": [],
   "source": [
    "# Create Net model class, activation=relu, softmax for the last layer\n",
    "\n",
    "class CNN(nn.Module):\n",
    "    \n",
    "    # Contructor\n",
    "    def __init__(self, cnn_layers, ff_layers):\n",
    "        super(CNN, self).__init__()\n",
    "        #maxpool layer\n",
    "        self.maxpool = nn.MaxPool2d(kernel_size=2)\n",
    "\n",
    "        #conv layer\n",
    "        self.cnn = nn.ModuleList()\n",
    "        kernel_size = 3\n",
    "        padding = 1\n",
    "        for in_channels, out_channels in zip(cnn_layers,cnn_layers[1:]):\n",
    "            self.cnn.append(nn.Conv2d(in_channels,out_channels,kernel_size=kernel_size,padding=padding))\n",
    "            kernel_size+=2\n",
    "            padding+=1\n",
    "        \n",
    "        #batch norm layer\n",
    "        self.cnn_bn = nn.ModuleList()\n",
    "        for out_channels in cnn_layers[1:]:\n",
    "            self.cnn_bn.append(nn.BatchNorm2d(out_channels))\n",
    "\n",
    "        #Feedforward\n",
    "        self.ff = nn.ModuleList()\n",
    "        self.ff_bn = nn.ModuleList()\n",
    "        ff_layers.insert(0,cnn_layers[-1]*4*4)\n",
    "        for input_size, output_size in zip(ff_layers, ff_layers[1:]):\n",
    "            self.ff.append(nn.Linear(input_size, output_size))\n",
    "            self.ff_bn.append(nn.BatchNorm1d(output_size))\n",
    "    \n",
    "    # Prediction\n",
    "    def forward(self, x):\n",
    "        #cnn layers\n",
    "        for convolution, bn in zip(self.cnn,self.cnn_bn):\n",
    "            x = convolution(x)\n",
    "            x = bn(x)\n",
    "            x = torch.relu(x)\n",
    "            x = self.maxpool(x)       \n",
    "\n",
    "        #Feedforward\n",
    "        x = x.view(x.size(0), -1)\n",
    "        L = len(self.ff)\n",
    "        for (l, linear_transform, linear_bn) in zip(range(L), self.ff, self.ff_bn):\n",
    "            if l < L - 1:\n",
    "                x = F.relu(linear_transform(x))\n",
    "                x = linear_bn(x)\n",
    "            else:\n",
    "                x = linear_transform(x)\n",
    "                x = linear_bn(x)\n",
    "        return x"
   ]
  },
  {
   "cell_type": "code",
   "execution_count": 10,
   "metadata": {},
   "outputs": [],
   "source": [
    "# Create the model object using CNN class\n",
    "cnn_layers = [3,64,64,128,128]\n",
    "ff_layers = [20,7,5,2]\n",
    "model = CNN(cnn_layers,ff_layers)"
   ]
  },
  {
   "cell_type": "code",
   "execution_count": 11,
   "metadata": {},
   "outputs": [
    {
     "data": {
      "text/plain": [
       "<bound method Module.parameters of CNN(\n",
       "  (maxpool): MaxPool2d(kernel_size=2, stride=2, padding=0, dilation=1, ceil_mode=False)\n",
       "  (cnn): ModuleList(\n",
       "    (0): Conv2d(3, 64, kernel_size=(3, 3), stride=(1, 1), padding=(1, 1))\n",
       "    (1): Conv2d(64, 64, kernel_size=(5, 5), stride=(1, 1), padding=(2, 2))\n",
       "    (2): Conv2d(64, 128, kernel_size=(7, 7), stride=(1, 1), padding=(3, 3))\n",
       "    (3): Conv2d(128, 128, kernel_size=(9, 9), stride=(1, 1), padding=(4, 4))\n",
       "  )\n",
       "  (cnn_bn): ModuleList(\n",
       "    (0): BatchNorm2d(64, eps=1e-05, momentum=0.1, affine=True, track_running_stats=True)\n",
       "    (1): BatchNorm2d(64, eps=1e-05, momentum=0.1, affine=True, track_running_stats=True)\n",
       "    (2): BatchNorm2d(128, eps=1e-05, momentum=0.1, affine=True, track_running_stats=True)\n",
       "    (3): BatchNorm2d(128, eps=1e-05, momentum=0.1, affine=True, track_running_stats=True)\n",
       "  )\n",
       "  (ff): ModuleList(\n",
       "    (0): Linear(in_features=2048, out_features=20, bias=True)\n",
       "    (1): Linear(in_features=20, out_features=7, bias=True)\n",
       "    (2): Linear(in_features=7, out_features=5, bias=True)\n",
       "    (3): Linear(in_features=5, out_features=2, bias=True)\n",
       "  )\n",
       "  (ff_bn): ModuleList(\n",
       "    (0): BatchNorm1d(20, eps=1e-05, momentum=0.1, affine=True, track_running_stats=True)\n",
       "    (1): BatchNorm1d(7, eps=1e-05, momentum=0.1, affine=True, track_running_stats=True)\n",
       "    (2): BatchNorm1d(5, eps=1e-05, momentum=0.1, affine=True, track_running_stats=True)\n",
       "    (3): BatchNorm1d(2, eps=1e-05, momentum=0.1, affine=True, track_running_stats=True)\n",
       "  )\n",
       ")>"
      ]
     },
     "execution_count": 11,
     "metadata": {},
     "output_type": "execute_result"
    }
   ],
   "source": [
    "model.parameters"
   ]
  },
  {
   "cell_type": "code",
   "execution_count": 12,
   "metadata": {},
   "outputs": [],
   "source": [
    "#set loss function and optimizer\n",
    "criterion = nn.CrossEntropyLoss()\n",
    "learning_rate = 0.01\n",
    "optimizer = torch.optim.Adam(model.parameters(), lr = learning_rate)\n",
    "\n",
    "# create test loader for BGD\n",
    "train_loader = DataLoader(train_data,batch_size=20,shuffle=True)\n",
    "val_loader = DataLoader(val_data,batch_size=len(val_data))\n",
    "test_loader = DataLoader(test_data,batch_size=len(test_data))"
   ]
  },
  {
   "cell_type": "code",
   "execution_count": 13,
   "metadata": {},
   "outputs": [],
   "source": [
    "# Define the function for training the model\n",
    "from src.utils import EarlyStopping\n",
    "\n",
    "def predict(model,data_loader):\n",
    "    result = {}\n",
    "    losses = []\n",
    "    correct=0\n",
    "    m = 0 #length of the dataset\n",
    "    for x,y in data_loader:\n",
    "        model.eval()\n",
    "        y_ = model(x)\n",
    "        #calculate loss\n",
    "        losses.append(criterion(y_, y).data.item())\n",
    "        #calculate accuracy\n",
    "        _, label = torch.max(y_.data,1)\n",
    "        correct += torch.sum(y==label).item()\n",
    "        m+=len(y)\n",
    "    accuracy = correct/m\n",
    "    loss = sum(losses)/len(losses)\n",
    "    result['accuracy'] = accuracy\n",
    "    result['loss'] = loss\n",
    "\n",
    "    return(result)\n",
    "\n",
    "def train(model, criterion, train_loader, optimizer, epoch=1000):\n",
    "\n",
    "    result = {\n",
    "        'train_loss':[],\n",
    "        'train_cost':[],\n",
    "        'val_loss':[],\n",
    "        'val_accuracy':[],\n",
    "    }\n",
    "\n",
    "    # initialize the early_stopping object\n",
    "    early_stopping = EarlyStopping(patience=20, verbose=True)\n",
    "\n",
    "    for i in range(epoch):\n",
    "        #################\n",
    "        #Train the model#\n",
    "        #################\n",
    "        COST = 0#train cost\n",
    "        losses = []\n",
    "        for x, y in train_loader:\n",
    "            model.train()\n",
    "            yhat = model(x)\n",
    "            loss = criterion(yhat, y)\n",
    "            optimizer.zero_grad()\n",
    "            loss.backward()\n",
    "            optimizer.step()\n",
    "            COST+=loss.data.item()\n",
    "            losses.append(loss.data.item())\n",
    "        result['train_cost'].append(COST)\n",
    "        LOSS = np.average(losses) #train loss\n",
    "        result['train_loss'].append(LOSS)\n",
    "\n",
    "        ##################################\n",
    "        #print status for every 50 epochs#\n",
    "        ##################################\n",
    "        if i%50==0:\n",
    "            print(f\"training COST after {i} epochs is {COST}\")\n",
    "\n",
    "        ######################################\n",
    "        #get validation result for each epoch#\n",
    "        ######################################\n",
    "        val_result = predict(model,val_loader)\n",
    "        result['val_loss'].append(val_result['loss'])\n",
    "        result['val_accuracy'].append(val_result['accuracy'])\n",
    "        \n",
    "        # early_stopping needs the validation loss to check if it has decreased, \n",
    "        # and if it has, it will make a checkpoint of the current model\n",
    "        early_stopping(val_result['loss'], model)\n",
    "        \n",
    "        if early_stopping.early_stop:\n",
    "            print(\"Early stopping\")\n",
    "            break\n",
    "    # load the last checkpoint with the best model\n",
    "    model.load_state_dict(torch.load('checkpoint.pt'))\n",
    "    return model, result"
   ]
  },
  {
   "cell_type": "code",
   "execution_count": 14,
   "metadata": {},
   "outputs": [
    {
     "name": "stdout",
     "output_type": "stream",
     "text": [
      "training COST after 0 epochs is 25.682278275489807\n",
      "Validation loss decreased (inf --> 0.801418).  Saving model ...\n",
      "Validation loss decreased (0.801418 --> 0.799277).  Saving model ...\n",
      "Validation loss decreased (0.799277 --> 0.606375).  Saving model ...\n",
      "EarlyStopping counter: 1 out of 20\n",
      "Validation loss decreased (0.606375 --> 0.546702).  Saving model ...\n",
      "EarlyStopping counter: 1 out of 20\n",
      "Validation loss decreased (0.546702 --> 0.482896).  Saving model ...\n",
      "EarlyStopping counter: 1 out of 20\n",
      "Validation loss decreased (0.482896 --> 0.424649).  Saving model ...\n",
      "EarlyStopping counter: 1 out of 20\n",
      "EarlyStopping counter: 2 out of 20\n",
      "EarlyStopping counter: 3 out of 20\n",
      "EarlyStopping counter: 4 out of 20\n",
      "EarlyStopping counter: 5 out of 20\n",
      "EarlyStopping counter: 6 out of 20\n",
      "EarlyStopping counter: 7 out of 20\n",
      "EarlyStopping counter: 8 out of 20\n",
      "EarlyStopping counter: 9 out of 20\n",
      "Validation loss decreased (0.424649 --> 0.365804).  Saving model ...\n",
      "EarlyStopping counter: 1 out of 20\n",
      "EarlyStopping counter: 2 out of 20\n",
      "EarlyStopping counter: 3 out of 20\n",
      "EarlyStopping counter: 4 out of 20\n",
      "EarlyStopping counter: 5 out of 20\n",
      "EarlyStopping counter: 6 out of 20\n",
      "EarlyStopping counter: 7 out of 20\n",
      "EarlyStopping counter: 8 out of 20\n",
      "EarlyStopping counter: 9 out of 20\n",
      "EarlyStopping counter: 10 out of 20\n",
      "EarlyStopping counter: 11 out of 20\n",
      "EarlyStopping counter: 12 out of 20\n",
      "EarlyStopping counter: 13 out of 20\n",
      "EarlyStopping counter: 14 out of 20\n",
      "EarlyStopping counter: 15 out of 20\n",
      "EarlyStopping counter: 16 out of 20\n",
      "EarlyStopping counter: 17 out of 20\n",
      "EarlyStopping counter: 18 out of 20\n",
      "EarlyStopping counter: 19 out of 20\n",
      "EarlyStopping counter: 20 out of 20\n",
      "Early stopping\n"
     ]
    }
   ],
   "source": [
    "#train the model\n",
    "model, train_result = train(model,criterion,train_loader,optimizer,epoch=2000)"
   ]
  },
  {
   "cell_type": "code",
   "execution_count": 15,
   "metadata": {},
   "outputs": [
    {
     "data": {
      "text/plain": [
       "Text(0, 0.5, 'loss')"
      ]
     },
     "execution_count": 15,
     "metadata": {},
     "output_type": "execute_result"
    },
    {
     "data": {
      "image/png": "[encoded data removed]",
      "text/plain": [
       "<Figure size 432x288 with 1 Axes>"
      ]
     },
     "metadata": {
      "needs_background": "light"
     },
     "output_type": "display_data"
    }
   ],
   "source": [
    "# plot the change in loss\n",
    "plt.plot(train_result['train_loss'])\n",
    "plt.plot(train_result['val_loss'])\n",
    "plt.xlabel('epochs')\n",
    "plt.ylabel('loss')"
   ]
  },
  {
   "cell_type": "code",
   "execution_count": 18,
   "metadata": {},
   "outputs": [
    {
     "data": {
      "text/plain": [
       "[<matplotlib.lines.Line2D at 0x7fc1c3c63520>]"
      ]
     },
     "execution_count": 18,
     "metadata": {},
     "output_type": "execute_result"
    },
    {
     "data": {
      "image/png": "[encoded data removed]",
      "text/plain": [
       "<Figure size 432x288 with 1 Axes>"
      ]
     },
     "metadata": {
      "needs_background": "light"
     },
     "output_type": "display_data"
    }
   ],
   "source": [
    "#plot test accuracy\n",
    "plt.plot(train_result['val_accuracy'])"
   ]
  },
  {
   "cell_type": "code",
   "execution_count": 19,
   "metadata": {},
   "outputs": [
    {
     "data": {
      "text/plain": [
       "{'accuracy': 0.9047619047619048, 'loss': 0.2338848114013672}"
      ]
     },
     "execution_count": 19,
     "metadata": {},
     "output_type": "execute_result"
    }
   ],
   "source": [
    "#run the model on the test set and calculate accuracy\n",
    "predict(model,test_loader)"
   ]
  }
 ],
 "metadata": {
  "kernelspec": {
   "display_name": "Python 3.9.0 ('algo_learn')",
   "language": "python",
   "name": "python3"
  },
  "language_info": {
   "codemirror_mode": {
    "name": "ipython",
    "version": 3
   },
   "file_extension": ".py",
   "mimetype": "text/x-python",
   "name": "python",
   "nbconvert_exporter": "python",
   "pygments_lexer": "ipython3",
   "version": "3.9.0"
  },
  "orig_nbformat": 4,
  "vscode": {
   "interpreter": {
    "hash": "dc582941bb13fc047437858999ffdb1569315e671b873cdc5962ec8f46a25ca7"
   }
  }
 },
 "nbformat": 4,
 "nbformat_minor": 2
}
