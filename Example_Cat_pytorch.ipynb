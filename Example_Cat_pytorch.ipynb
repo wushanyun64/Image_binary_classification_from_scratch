{
 "cells": [
  {
   "cell_type": "markdown",
   "metadata": {},
   "source": [
    "## Deep neural network for image classification with pytorch"
   ]
  },
  {
   "cell_type": "code",
   "execution_count": 1,
   "metadata": {},
   "outputs": [],
   "source": [
    "import matplotlib.pyplot as plt\n",
    "import numpy as np\n",
    "from PIL import Image\n",
    "import torch\n",
    "import torch.nn as nn\n",
    "import torch.nn.functional as F\n",
    "import torchvision.transforms as T\n",
    "from torch.optim import SGD\n",
    "from torch.utils.data import Dataset, DataLoader\n",
    "from src.utils import *"
   ]
  },
  {
   "cell_type": "code",
   "execution_count": 2,
   "metadata": {},
   "outputs": [],
   "source": [
    "# import the data\n",
    "train_x_orig, train_y, test_x_orig, test_y, classes = load_data('./data/train_catvnoncat.h5','./data/test_catvnoncat.h5')"
   ]
  },
  {
   "cell_type": "code",
   "execution_count": 3,
   "metadata": {},
   "outputs": [
    {
     "data": {
      "text/plain": [
       "numpy.ndarray"
      ]
     },
     "execution_count": 3,
     "metadata": {},
     "output_type": "execute_result"
    }
   ],
   "source": [
    "type(train_y)"
   ]
  },
  {
   "cell_type": "code",
   "execution_count": 4,
   "metadata": {},
   "outputs": [
    {
     "name": "stdout",
     "output_type": "stream",
     "text": [
      "Number of training examples: 209\n",
      "Number of testing examples: 50\n",
      "Each image is of size: (64, 64, 3)\n",
      "train_x_orig shape: (209, 64, 64, 3)\n",
      "train_y shape: (209, 1)\n",
      "test_x_orig shape: (50, 64, 64, 3)\n",
      "test_y shape: (50, 1)\n"
     ]
    }
   ],
   "source": [
    "#Change y dtype and transpose.\n",
    "train_y = train_y.astype('float32')\n",
    "test_y = test_y.astype('float32')\n",
    "train_y = train_y.T\n",
    "test_y = test_y.T\n",
    "\n",
    "# Explore the dataset \n",
    "m_train = train_x_orig.shape[0]\n",
    "num_px = train_x_orig.shape[1]\n",
    "m_test = test_x_orig.shape[0]\n",
    "\n",
    "\n",
    "print (\"Number of training examples: \" + str(m_train))\n",
    "print (\"Number of testing examples: \" + str(m_test))\n",
    "print (\"Each image is of size: (\" + str(num_px) + \", \" + str(num_px) + \", 3)\")\n",
    "print (\"train_x_orig shape: \" + str(train_x_orig.shape))\n",
    "print (\"train_y shape: \" + str(train_y.shape))\n",
    "print (\"test_x_orig shape: \" + str(test_x_orig.shape))\n",
    "print (\"test_y shape: \" + str(test_y.shape))"
   ]
  },
  {
   "cell_type": "code",
   "execution_count": 5,
   "metadata": {},
   "outputs": [],
   "source": [
    "# load the data into pytorch dataset object\n",
    "class Data(Dataset):\n",
    "\n",
    "    transform = T.Compose([\n",
    "        T.ToPILImage(),\n",
    "        T.Resize([64,64]),\n",
    "        T.ToTensor()])\n",
    "\n",
    "    def __init__(self,x,y):\n",
    "        self.x = x\n",
    "        self.y = y\n",
    "        self.len = y.shape[0]\n",
    "\n",
    "    #Getter\n",
    "    def __getitem__(self,index):\n",
    "        img = self.x[index]\n",
    "        x = self.transform(img)\n",
    "        return x, self.y[index]\n",
    "    \n",
    "    #Getlength\n",
    "    def __len__(self):\n",
    "        return self.len\n",
    "    \n",
    "    #plot example\n",
    "    def plot(self,index):\n",
    "        x_,y_ = self.__getitem__(index)\n",
    "        print('y=',y_)\n",
    "        to_pil = T.ToPILImage()\n",
    "        img = to_pil(x_)\n",
    "        img.show()\n",
    "\n",
    "train_data = Data(train_x_orig,train_y)\n",
    "test_data = Data(test_x_orig,test_y)"
   ]
  },
  {
   "cell_type": "code",
   "execution_count": 6,
   "metadata": {},
   "outputs": [
    {
     "name": "stdout",
     "output_type": "stream",
     "text": [
      "y= [0.]\n"
     ]
    },
    {
     "data": {
      "image/png": "[encoded data removed]",
      "text/plain": [
       "<PIL.Image.Image image mode=RGB size=64x64 at 0x7F041F8299A0>"
      ]
     },
     "metadata": {},
     "output_type": "display_data"
    }
   ],
   "source": [
    "#plot example\n",
    "train_data.plot(140)"
   ]
  },
  {
   "cell_type": "code",
   "execution_count": 7,
   "metadata": {},
   "outputs": [
    {
     "name": "stdout",
     "output_type": "stream",
     "text": [
      "y= [0.]\n"
     ]
    },
    {
     "data": {
      "image/png": "[encoded data removed]",
      "text/plain": [
       "<PIL.Image.Image image mode=RGB size=64x64 at 0x7F0419C364C0>"
      ]
     },
     "metadata": {},
     "output_type": "display_data"
    }
   ],
   "source": [
    "test_data.plot(43)"
   ]
  },
  {
   "cell_type": "markdown",
   "metadata": {},
   "source": [
    "### Train a 4 layer fully connected nerual network with pytorch"
   ]
  },
  {
   "cell_type": "code",
   "execution_count": 38,
   "metadata": {},
   "outputs": [],
   "source": [
    "# Create Net model class, activation=relu, softmax for the last layer\n",
    "\n",
    "class Net(nn.Module):\n",
    "    \n",
    "    # Constructor\n",
    "    def __init__(self, Layers):\n",
    "        super(Net, self).__init__()\n",
    "        self.hidden = nn.ModuleList()\n",
    "        for input_size, output_size in zip(Layers, Layers[1:]):\n",
    "            self.hidden.append(nn.Linear(input_size, output_size))\n",
    "    \n",
    "    # Prediction\n",
    "    def forward(self, activation):\n",
    "        L = len(self.hidden)\n",
    "        for (l, linear_transform) in zip(range(L), self.hidden):\n",
    "            if l < L - 1:\n",
    "                activation = F.relu(linear_transform(activation))\n",
    "            else:\n",
    "                activation = torch.sigmoid(linear_transform(activation))\n",
    "        return activation\n",
    "\n",
    "# create the net\n",
    "layers = [64*64*3,20,7,5,1]\n",
    "model = Net(layers)\n"
   ]
  },
  {
   "cell_type": "code",
   "execution_count": 39,
   "metadata": {},
   "outputs": [],
   "source": [
    "# Create the criterion function, here we use CrossEntropyLoss\n",
    "criterion = nn.BCELoss()\n",
    "\n",
    "# create train loader and test loader for BGD\n",
    "train_loader = DataLoader(train_data,batch_size=20,shuffle=True)\n",
    "test_loader = DataLoader(test_data,batch_size=10)\n",
    "\n",
    "#set optimizer\n",
    "learning_rate = 0.01\n",
    "optimizer = SGD(model.parameters(),lr=learning_rate)"
   ]
  },
  {
   "cell_type": "code",
   "execution_count": 40,
   "metadata": {},
   "outputs": [],
   "source": [
    "# Define the function for training the model\n",
    "\n",
    "def train(model, criterion, train_loader, optimizer, epochs=800):\n",
    "    LOSS = [] #train loss\n",
    "    for i in range(epochs):\n",
    "        for x, y in train_loader:\n",
    "            yhat = model(x.view(-1,64*64*3))\n",
    "            loss = criterion(yhat, y)\n",
    "            optimizer.zero_grad()\n",
    "            loss.backward()\n",
    "            optimizer.step()\n",
    "            LOSS.append(loss.data.item())\n",
    "        if i%100==0 or i==epochs-1:\n",
    "            print(f\"cost after {i} epochs is {loss.data.item()}\")\n",
    "    return LOSS\n",
    "\n",
    "def predict(model,test_loader):\n",
    "    correct=0\n",
    "    for x,y in test_loader:\n",
    "        y_ = model(x.view(-1,64*64*3))\n",
    "        label = (y_>0.5).long()\n",
    "        correct += torch.sum(y==label).item()\n",
    "    accuracy = correct/len(test_y)\n",
    "    return(accuracy)\n",
    "    "
   ]
  },
  {
   "cell_type": "code",
   "execution_count": 41,
   "metadata": {},
   "outputs": [
    {
     "name": "stdout",
     "output_type": "stream",
     "text": [
      "cost after 0 epochs is 0.6870478987693787\n",
      "cost after 100 epochs is 0.2714141607284546\n",
      "cost after 200 epochs is 0.005794072523713112\n",
      "cost after 300 epochs is 0.0009553296840749681\n",
      "cost after 400 epochs is 0.001604348188266158\n",
      "cost after 500 epochs is 7.603657286381349e-05\n",
      "cost after 600 epochs is 0.00015844297013245523\n",
      "cost after 700 epochs is 4.0990351408254355e-05\n",
      "cost after 800 epochs is 0.0003804539155680686\n",
      "cost after 900 epochs is 0.0001861724886111915\n",
      "cost after 999 epochs is 9.148631215794012e-05\n"
     ]
    }
   ],
   "source": [
    "#train the model\n",
    "train_loss = train(model,criterion,train_loader,optimizer,epochs=1000)"
   ]
  },
  {
   "cell_type": "code",
   "execution_count": 42,
   "metadata": {},
   "outputs": [
    {
     "data": {
      "text/plain": [
       "Text(0, 0.5, 'cost')"
      ]
     },
     "execution_count": 42,
     "metadata": {},
     "output_type": "execute_result"
    },
    {
     "data": {
      "image/png": "[encoded data removed]",
      "text/plain": [
       "<Figure size 432x288 with 1 Axes>"
      ]
     },
     "metadata": {
      "needs_background": "light"
     },
     "output_type": "display_data"
    }
   ],
   "source": [
    "# plot the change in loss\n",
    "plt.plot(train_loss)\n",
    "plt.xlabel('num of iterations')\n",
    "plt.ylabel('cost')"
   ]
  },
  {
   "cell_type": "code",
   "execution_count": 43,
   "metadata": {},
   "outputs": [
    {
     "data": {
      "text/plain": [
       "0.72"
      ]
     },
     "execution_count": 43,
     "metadata": {},
     "output_type": "execute_result"
    }
   ],
   "source": [
    "#run the model on the test set and calculate accuracy\n",
    "predict(model,test_loader)"
   ]
  }
 ],
 "metadata": {
  "kernelspec": {
   "display_name": "Python 3.9.0 ('algo_learn')",
   "language": "python",
   "name": "python3"
  },
  "language_info": {
   "codemirror_mode": {
    "name": "ipython",
    "version": 3
   },
   "file_extension": ".py",
   "mimetype": "text/x-python",
   "name": "python",
   "nbconvert_exporter": "python",
   "pygments_lexer": "ipython3",
   "version": "3.9.0"
  },
  "orig_nbformat": 4,
  "vscode": {
   "interpreter": {
    "hash": "dc582941bb13fc047437858999ffdb1569315e671b873cdc5962ec8f46a25ca7"
   }
  }
 },
 "nbformat": 4,
 "nbformat_minor": 2
}
